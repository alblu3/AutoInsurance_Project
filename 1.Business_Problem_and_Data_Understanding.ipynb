{
 "cells": [
  {
   "cell_type": "markdown",
   "metadata": {
    "id": "83gOjMYUfBAo"
   },
   "source": [
    "# Final Project - Lord Analyst"
   ]
  },
  {
   "cell_type": "markdown",
   "metadata": {
    "id": "AB5YjxLITo95"
   },
   "source": [
    "## Table of Contents:\n",
    "1. Background\n",
    "2. Business problem\n",
    "3. Data Understanding\n",
    "  - 3.1 Importing Data\n",
    "  - 3.2 Features Information"
   ]
  },
  {
   "cell_type": "markdown",
   "metadata": {
    "id": "cIi0VjaoVKCx"
   },
   "source": [
    "# 1. Background"
   ]
  },
  {
   "cell_type": "markdown",
   "metadata": {
    "id": "5kQPs0esVWcL"
   },
   "source": [
    "> Dataset in this project is taken from Kaggle website (https://www.kaggle.com/ranja7/vehicle-insurance-customer-data) with the file name of \"AutoInsurance.csv\". This dataset is uploaded around year 2019 with Kaggle account name Ranja Sarkar. Dataset is filled with car insurance customers data with every characteristic of the customer. This dataset has numeric and categorical variables.\n",
    "\n",
    "> This project's objective is to create a solution in the business problem that was experience by a car insurance to apply Data Science knowledge. This project is to illustrate working in a data team of a car insurance company that is working to give solution and recommendation to the company's management using Data Science. Based on the dataset, we can identify what problems are currently being faced by the company and how Data Science could give a solution."
   ]
  },
  {
   "cell_type": "markdown",
   "metadata": {
    "id": "SY-c76gV9qI5"
   },
   "source": [
    "# 2. Business Problem"
   ]
  },
  {
   "cell_type": "markdown",
   "metadata": {
    "id": "xHl-JQp5aacg"
   },
   "source": [
    "> **\"Lord Insurance Auto\" company (pseudo-name) runs a car insurance business that operates its business in The USA.** This company has customers that insured their cars to the company. Insurance premium is the amount of money that is decided by an insurance company and agreed by the insured to pay based on the insurance agreement. Premium in this car insurance service is paid once a month to the insurance company by the customers as an exchange of a guarantee to the car that is insured at.\n",
    "\n",
    "> Lord Insurance Auto company has the right to determine the monthly premium amount to be paid to the potential customer. Determining the premium amount is affecting to the company's cash flow, therefore it is imperative to optimize the monthly premium to be paid by the potential customers. Current company's condition, there has been no model that can predict the amount of premium to be paid. This results administration process for new customers to face obstacle. The amount of premium calculation takes a long time to process due to calculated manually one by one by an employee. This process is perceived as ineffective in terms of employee's work efficiency because the work is repetitive and wasting the employee's workinh hour.\n",
    "\n",
    "> Other than calculating the amount of premium for potential customers, this company also doesn't have a classification to the customers who have a high great amount of insurance claim and tend to harm the company's financial. The customer's classification is highly important in business environment, because wth customer characteristics that is different we can predict future event and do preventive action to prevent unwanted events to happen. Customer classification can be used as well to new customers to predict their total insurance claim  in the future. The classification can be categorized into three classes, 'Low Risk', 'Medium Risk', and 'High Risk' with the main focus is the 'High Risk'.\n",
    "\n",
    "> So far, we can summarize **2 business problems** that exist in Lord Insurance Auto:\n",
    "1. No calculation model to determine the amount of premium of new customers in Lord Insurance Auto\n",
    "2. No customers' classification related to total insurance claim in Lord Insurance Auto\n",
    "\n",
    "> Objective of the listed problems as follow:\n",
    "1. Identifying the calculation model that can predict the amount of premium for new customers\n",
    "2. Identifying model that can classify customers related to total insurance claim"
   ]
  },
  {
   "cell_type": "markdown",
   "metadata": {
    "id": "Uvoczl6G9spL"
   },
   "source": [
    "# 3. Data Understanding"
   ]
  },
  {
   "cell_type": "markdown",
   "metadata": {
    "id": "ivkWtGQJsmCZ"
   },
   "source": [
    "## 3.1 Importing Data"
   ]
  },
  {
   "cell_type": "code",
   "execution_count": 2,
   "metadata": {
    "id": "3nRRdHhxsoQ7"
   },
   "outputs": [],
   "source": [
    "# Library\n",
    "import pandas as pd"
   ]
  },
  {
   "cell_type": "code",
   "execution_count": 4,
   "metadata": {
    "id": "Sdj6ecRFtRj4"
   },
   "outputs": [],
   "source": [
    "# Importing data\n",
    "df = pd.read_csv('AutoInsurance.csv')"
   ]
  },
  {
   "cell_type": "code",
   "execution_count": 7,
   "metadata": {
    "colab": {
     "base_uri": "https://localhost:8080/",
     "height": 428
    },
    "executionInfo": {
     "elapsed": 69,
     "status": "ok",
     "timestamp": 1633869448502,
     "user": {
      "displayName": "Nirwan Arrachman",
      "photoUrl": "https://lh3.googleusercontent.com/a-/AOh14GiavoQjNJNuWCol80Nkfrbqs0gyy_D6Twxj54cVGA=s64",
      "userId": "16807464531072202523"
     },
     "user_tz": -420
    },
    "id": "Nw-c0P-btcIM",
    "outputId": "4d9239f9-5cb8-4e73-a928-2ce76b07d589",
    "scrolled": true
   },
   "outputs": [
    {
     "data": {
      "text/html": [
       "<div>\n",
       "<style scoped>\n",
       "    .dataframe tbody tr th:only-of-type {\n",
       "        vertical-align: middle;\n",
       "    }\n",
       "\n",
       "    .dataframe tbody tr th {\n",
       "        vertical-align: top;\n",
       "    }\n",
       "\n",
       "    .dataframe thead th {\n",
       "        text-align: right;\n",
       "    }\n",
       "</style>\n",
       "<table border=\"1\" class=\"dataframe\">\n",
       "  <thead>\n",
       "    <tr style=\"text-align: right;\">\n",
       "      <th></th>\n",
       "      <th>Customer</th>\n",
       "      <th>State</th>\n",
       "      <th>Customer Lifetime Value</th>\n",
       "      <th>Response</th>\n",
       "      <th>Coverage</th>\n",
       "      <th>Education</th>\n",
       "      <th>Effective To Date</th>\n",
       "      <th>EmploymentStatus</th>\n",
       "      <th>Gender</th>\n",
       "      <th>Income</th>\n",
       "      <th>...</th>\n",
       "      <th>Months Since Policy Inception</th>\n",
       "      <th>Number of Open Complaints</th>\n",
       "      <th>Number of Policies</th>\n",
       "      <th>Policy Type</th>\n",
       "      <th>Policy</th>\n",
       "      <th>Renew Offer Type</th>\n",
       "      <th>Sales Channel</th>\n",
       "      <th>Total Claim Amount</th>\n",
       "      <th>Vehicle Class</th>\n",
       "      <th>Vehicle Size</th>\n",
       "    </tr>\n",
       "  </thead>\n",
       "  <tbody>\n",
       "    <tr>\n",
       "      <th>0</th>\n",
       "      <td>BU79786</td>\n",
       "      <td>Washington</td>\n",
       "      <td>2763.519279</td>\n",
       "      <td>No</td>\n",
       "      <td>Basic</td>\n",
       "      <td>Bachelor</td>\n",
       "      <td>2/24/11</td>\n",
       "      <td>Employed</td>\n",
       "      <td>F</td>\n",
       "      <td>56274</td>\n",
       "      <td>...</td>\n",
       "      <td>5</td>\n",
       "      <td>0</td>\n",
       "      <td>1</td>\n",
       "      <td>Corporate Auto</td>\n",
       "      <td>Corporate L3</td>\n",
       "      <td>Offer1</td>\n",
       "      <td>Agent</td>\n",
       "      <td>384.811147</td>\n",
       "      <td>Two-Door Car</td>\n",
       "      <td>Medsize</td>\n",
       "    </tr>\n",
       "    <tr>\n",
       "      <th>1</th>\n",
       "      <td>QZ44356</td>\n",
       "      <td>Arizona</td>\n",
       "      <td>6979.535903</td>\n",
       "      <td>No</td>\n",
       "      <td>Extended</td>\n",
       "      <td>Bachelor</td>\n",
       "      <td>1/31/11</td>\n",
       "      <td>Unemployed</td>\n",
       "      <td>F</td>\n",
       "      <td>0</td>\n",
       "      <td>...</td>\n",
       "      <td>42</td>\n",
       "      <td>0</td>\n",
       "      <td>8</td>\n",
       "      <td>Personal Auto</td>\n",
       "      <td>Personal L3</td>\n",
       "      <td>Offer3</td>\n",
       "      <td>Agent</td>\n",
       "      <td>1131.464935</td>\n",
       "      <td>Four-Door Car</td>\n",
       "      <td>Medsize</td>\n",
       "    </tr>\n",
       "    <tr>\n",
       "      <th>2</th>\n",
       "      <td>AI49188</td>\n",
       "      <td>Nevada</td>\n",
       "      <td>12887.431650</td>\n",
       "      <td>No</td>\n",
       "      <td>Premium</td>\n",
       "      <td>Bachelor</td>\n",
       "      <td>2/19/11</td>\n",
       "      <td>Employed</td>\n",
       "      <td>F</td>\n",
       "      <td>48767</td>\n",
       "      <td>...</td>\n",
       "      <td>38</td>\n",
       "      <td>0</td>\n",
       "      <td>2</td>\n",
       "      <td>Personal Auto</td>\n",
       "      <td>Personal L3</td>\n",
       "      <td>Offer1</td>\n",
       "      <td>Agent</td>\n",
       "      <td>566.472247</td>\n",
       "      <td>Two-Door Car</td>\n",
       "      <td>Medsize</td>\n",
       "    </tr>\n",
       "    <tr>\n",
       "      <th>3</th>\n",
       "      <td>WW63253</td>\n",
       "      <td>California</td>\n",
       "      <td>7645.861827</td>\n",
       "      <td>No</td>\n",
       "      <td>Basic</td>\n",
       "      <td>Bachelor</td>\n",
       "      <td>1/20/11</td>\n",
       "      <td>Unemployed</td>\n",
       "      <td>M</td>\n",
       "      <td>0</td>\n",
       "      <td>...</td>\n",
       "      <td>65</td>\n",
       "      <td>0</td>\n",
       "      <td>7</td>\n",
       "      <td>Corporate Auto</td>\n",
       "      <td>Corporate L2</td>\n",
       "      <td>Offer1</td>\n",
       "      <td>Call Center</td>\n",
       "      <td>529.881344</td>\n",
       "      <td>SUV</td>\n",
       "      <td>Medsize</td>\n",
       "    </tr>\n",
       "    <tr>\n",
       "      <th>4</th>\n",
       "      <td>HB64268</td>\n",
       "      <td>Washington</td>\n",
       "      <td>2813.692575</td>\n",
       "      <td>No</td>\n",
       "      <td>Basic</td>\n",
       "      <td>Bachelor</td>\n",
       "      <td>3/2/2011</td>\n",
       "      <td>Employed</td>\n",
       "      <td>M</td>\n",
       "      <td>43836</td>\n",
       "      <td>...</td>\n",
       "      <td>44</td>\n",
       "      <td>0</td>\n",
       "      <td>1</td>\n",
       "      <td>Personal Auto</td>\n",
       "      <td>Personal L1</td>\n",
       "      <td>Offer1</td>\n",
       "      <td>Agent</td>\n",
       "      <td>138.130879</td>\n",
       "      <td>Four-Door Car</td>\n",
       "      <td>Medsize</td>\n",
       "    </tr>\n",
       "  </tbody>\n",
       "</table>\n",
       "<p>5 rows × 24 columns</p>\n",
       "</div>"
      ],
      "text/plain": [
       "  Customer       State  Customer Lifetime Value Response  Coverage Education  \\\n",
       "0  BU79786  Washington              2763.519279       No     Basic  Bachelor   \n",
       "1  QZ44356     Arizona              6979.535903       No  Extended  Bachelor   \n",
       "2  AI49188      Nevada             12887.431650       No   Premium  Bachelor   \n",
       "3  WW63253  California              7645.861827       No     Basic  Bachelor   \n",
       "4  HB64268  Washington              2813.692575       No     Basic  Bachelor   \n",
       "\n",
       "  Effective To Date EmploymentStatus Gender  Income  ...  \\\n",
       "0           2/24/11         Employed      F   56274  ...   \n",
       "1           1/31/11       Unemployed      F       0  ...   \n",
       "2           2/19/11         Employed      F   48767  ...   \n",
       "3           1/20/11       Unemployed      M       0  ...   \n",
       "4          3/2/2011         Employed      M   43836  ...   \n",
       "\n",
       "  Months Since Policy Inception Number of Open Complaints  Number of Policies  \\\n",
       "0                             5                         0                   1   \n",
       "1                            42                         0                   8   \n",
       "2                            38                         0                   2   \n",
       "3                            65                         0                   7   \n",
       "4                            44                         0                   1   \n",
       "\n",
       "      Policy Type        Policy  Renew Offer Type  Sales Channel  \\\n",
       "0  Corporate Auto  Corporate L3            Offer1          Agent   \n",
       "1   Personal Auto   Personal L3            Offer3          Agent   \n",
       "2   Personal Auto   Personal L3            Offer1          Agent   \n",
       "3  Corporate Auto  Corporate L2            Offer1    Call Center   \n",
       "4   Personal Auto   Personal L1            Offer1          Agent   \n",
       "\n",
       "  Total Claim Amount  Vehicle Class Vehicle Size  \n",
       "0         384.811147   Two-Door Car      Medsize  \n",
       "1        1131.464935  Four-Door Car      Medsize  \n",
       "2         566.472247   Two-Door Car      Medsize  \n",
       "3         529.881344            SUV      Medsize  \n",
       "4         138.130879  Four-Door Car      Medsize  \n",
       "\n",
       "[5 rows x 24 columns]"
      ]
     },
     "execution_count": 7,
     "metadata": {},
     "output_type": "execute_result"
    }
   ],
   "source": [
    "# preview dataset\n",
    "df.head()"
   ]
  },
  {
   "cell_type": "code",
   "execution_count": null,
   "metadata": {
    "colab": {
     "base_uri": "https://localhost:8080/"
    },
    "executionInfo": {
     "elapsed": 41,
     "status": "ok",
     "timestamp": 1633869448507,
     "user": {
      "displayName": "Nirwan Arrachman",
      "photoUrl": "https://lh3.googleusercontent.com/a-/AOh14GiavoQjNJNuWCol80Nkfrbqs0gyy_D6Twxj54cVGA=s64",
      "userId": "16807464531072202523"
     },
     "user_tz": -420
    },
    "id": "4b9ow3cxzgch",
    "outputId": "5f93141c-713f-4fcd-d4df-d5d8f94908ad"
   },
   "outputs": [
    {
     "data": {
      "text/plain": [
       "(9134, 24)"
      ]
     },
     "execution_count": 4,
     "metadata": {},
     "output_type": "execute_result"
    }
   ],
   "source": [
    "# Total row and columns\n",
    "df.shape # 9134 rows, 24 columns"
   ]
  },
  {
   "cell_type": "markdown",
   "metadata": {
    "id": "rNORYli7tghT"
   },
   "source": [
    "## 3.2 Features Information"
   ]
  },
  {
   "cell_type": "markdown",
   "metadata": {
    "id": "-xb4zg1Utj1q"
   },
   "source": [
    "Explanation of features in the dataset: \n",
    "1. **Customer** : Customer unique code (categorical)\n",
    "2. **State** : Customer's current country state (categorical)\n",
    "3. **Customer Lifetime Value** : Company's income calculation prediction collected from every customer (numeric) \n",
    "4. **Response** : Customer's response to the insurance policy renewal (categorical) \n",
    "5. **Coverage** : Insurance protection type owned by customer (categorical)\n",
    "6. **Education** : Customer's education background (categorical)\n",
    "7. **Effective To Date** : Insurance policy effective starting date (date)\n",
    "8. **EmploymentStatus** : Customer's employment status (categorical)\n",
    "9. **Gender** : Customer's gender (categorical)\n",
    "10. **Income** : Customer's monthly income (numeric)\n",
    "11. **Location Code** : Customer's area location type (categorical)\n",
    "12. **Marital Status** : Customer's marital status (categorical)\n",
    "13. **Monthly Premium Auto** : Customer's monthly amount of premium (numeric)\n",
    "14. **Months Since Last Claim** : Amount of month since last insurance claim (numeric)\n",
    "15. **Months Since Policy Inception** : Amount of month since last policy inception or renewal (numeric)\n",
    "16. **Number of Open Complaints** : Amount of customer complains to the insurance company (numeric)\n",
    "17. **Number of Policies** : Customer's number of policies (numeric)\n",
    "18. **Policy Type** : Customer's policy type (categorical)\n",
    "19. **Policy** : Customer's detailed policy type (categorical)\n",
    "20. **Renew Offer Type** : Renewal offering type to customer (categorical)\n",
    "21. **Sales Channel** : Sales channel type to each customer (categorical)\n",
    "22. **Total Claim Amount** : Total insurance claim amount claimed by customer (numeric)\n",
    "23. **Vehicle Class**\t: Customer's vehicle class (categorical)\n",
    "24. **Vehicle Size** : Customer's vehicle size (categorical)"
   ]
  }
 ],
 "metadata": {
  "colab": {
   "authorship_tag": "ABX9TyNBtG5WjwMdq1O4LToIfmaN",
   "collapsed_sections": [],
   "name": "Business_Problem_and_Data_Understanding.ipynb",
   "provenance": []
  },
  "kernelspec": {
   "display_name": "Python 3",
   "language": "python",
   "name": "python3"
  },
  "language_info": {
   "codemirror_mode": {
    "name": "ipython",
    "version": 3
   },
   "file_extension": ".py",
   "mimetype": "text/x-python",
   "name": "python",
   "nbconvert_exporter": "python",
   "pygments_lexer": "ipython3",
   "version": "3.8.8"
  }
 },
 "nbformat": 4,
 "nbformat_minor": 1
}
