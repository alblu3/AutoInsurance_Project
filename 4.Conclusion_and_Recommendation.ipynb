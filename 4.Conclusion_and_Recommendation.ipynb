{
 "cells": [
  {
   "cell_type": "markdown",
   "metadata": {
    "id": "I0Dv_s48Z_ay"
   },
   "source": [
    "# **4. Conclusion and Recommendation**"
   ]
  },
  {
   "cell_type": "markdown",
   "metadata": {
    "id": "aEg8EaOiaKdh"
   },
   "source": [
    "## 4.1 Conclusion"
   ]
  },
  {
   "cell_type": "markdown",
   "metadata": {
    "id": "CIixPLisaNnN"
   },
   "source": [
    "> We will divide some summary points of what we did so far:\n",
    "1. EDA section, it is found where the sum of the some values that is dominating consist of **'Coverage', 'Employment Status', 'Location Code', 'Policy Type', and 'Vehicle Size'**. There is a strong connection between Total Claim Amount and both Location Code & Employment Status, while Monthly Premium Auto has a strong connection with Vehicle Class. To predict these two target variables, then these independent variables are recommended to be added in the machine learning model.\n",
    "2. We have made **regression model to predict monthly premium auto for new customer** using the insurance dataset. Selected regression model is non-linear regression with Random Forest by applying parameter tuning to produce **MAE score on data test 11.90** (lowest MAE score). The feature that has a quite profound contribution to determine the premium of new customer is **'Vehicle Class'** with the value of **feature importance 83%**.\n",
    "3. We made insurance premium prediction model, we also made **regression model that can predict new customer's insurance total claim**. This prediction model uses non-linear regression with tuning parameter XGBoost to produce **MAE score on data test of 72.12** (lowest MAE score). The features that contributes quite profound to determine the insurance total claim are customer who lives in suburban and rural, monthly premium auto, and marital status of single. **These 4 variables contribute feature importance as high as 97.1% among all variables**."
   ]
  },
  {
   "cell_type": "markdown",
   "metadata": {
    "id": "1dWO71fDpS_R"
   },
   "source": [
    "## 4.2 Business Impact  \n",
    "> Based on the summary above, we can define the business impact to what could happen to the company.\n",
    "1. **Employee expense** for the employee to analyze the new customer's monthly insurance premium can be allocated to other operational expense\n",
    "2. **Registration process of new customer will be faster** because the company now has a model that can determine the new customer's monthly insurance premium faster\n",
    "3. **The company can implement preventive steps** to handle new customer that would be predicted has a high total claim insurance in the future\n",
    "4. **the company also has option** whether to give discount to new customer that is predicted to have a low insurance total claim in the future so **the new customer is interested to insured the car to the company**."
   ]
  },
  {
   "cell_type": "markdown",
   "metadata": {
    "id": "ktQypcbxrYnO"
   },
   "source": [
    "## 4.3 Recommendation"
   ]
  },
  {
   "cell_type": "markdown",
   "metadata": {
    "id": "6g1BVJbmrby8"
   },
   "source": [
    "> We can recommend as follows:\n",
    "1. To the new customer that has a high predicted insurance total claim in the future, **the company could give a special training related to safe driving and tips how to maintain vehicle**. Prevention is better than cure/repairing, we could prevent some unwanted instances in the future and avoid anything that invites accident or incident to all the new customers.\n",
    "2. Data limitation to work on this model is to be noticed by the company. **Company could invest more to the availability of company's data** to have a better comprehensive analysis. If the company is in 'data-driven' step already, company could collect, analyze, predict, and even automize the process.\n",
    "3. Prediction model that was created can be made perfect by the company. We realize **the data limitation and time to make the prediction model**. "
   ]
  }
 ],
 "metadata": {
  "colab": {
   "collapsed_sections": [],
   "name": "4.Conclusion_and_Recommendation.ipynb",
   "provenance": []
  },
  "kernelspec": {
   "display_name": "Python 3",
   "language": "python",
   "name": "python3"
  },
  "language_info": {
   "codemirror_mode": {
    "name": "ipython",
    "version": 3
   },
   "file_extension": ".py",
   "mimetype": "text/x-python",
   "name": "python",
   "nbconvert_exporter": "python",
   "pygments_lexer": "ipython3",
   "version": "3.8.8"
  }
 },
 "nbformat": 4,
 "nbformat_minor": 1
}
